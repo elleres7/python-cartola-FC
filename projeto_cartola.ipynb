{
  "nbformat": 4,
  "nbformat_minor": 0,
  "metadata": {
    "colab": {
      "name": "projeto_cartola.ipynb",
      "provenance": [],
      "collapsed_sections": []
    },
    "kernelspec": {
      "name": "python3",
      "display_name": "Python 3"
    },
    "language_info": {
      "name": "python"
    }
  },
  "cells": [
    {
      "cell_type": "code",
      "source": [
        "# ::::::::::::::::::::::::::::::::\n",
        "# :: FASE 01 - COLETA DE DADOS ::\n",
        "# ::::::::::::::::::::::::::::::::\n",
        "\n",
        "# IMPORTAR A LIBS QUE SERÃO UTILIZADAS\n",
        "import requests\n",
        "import pandas as pd\n",
        "import matplotlib.pyplot as plt\n",
        "import numpy as np\n",
        "\n",
        "# SOLICITAÇÃO PARA ACESSO AOS DADOS\n",
        "resposta = requests.get(\"https://api.cartola.globo.com/atletas/mercado\")\n",
        "\n",
        "# VERIFICAÇÃO DE ERRO NA ENTREGA DOS DADOS\n",
        "if resposta.status_code == 200:\n",
        "\n",
        "# TRANSFORMAR OS DADOS EM ARQUIVO JSON\n",
        "    dado = resposta.json()\n",
        "\n",
        "# TRIAGEM DE DADOS\n",
        "    for atleta in dado[\"atletas\"]:\n",
        "\n",
        "      posicao = atleta[\"posicao_id\"]\n",
        "      nome = atleta[\"apelido\"]\n",
        "      time = atleta[\"clube_id\"]\n",
        "      jogos = atleta[\"jogos_num\"]\n",
        "      preco = atleta[\"preco_num\"]\n",
        "      media = atleta[\"media_num\"]\n",
        "      minimo = atleta[\"minimo_para_valorizar\"]\n",
        "      \n",
        "# TRANSFORMAR OS DADOS SELECIONADOS EM DICIONÁRIO\n",
        "      jogadores = {'posicao':[posicao],'nome':[nome],'time':[time],'jogos':[jogos],'preco':[preco],'media':[media],'minimo':[minimo]}\n",
        "     \n",
        "# TRANSFORMAR DICIONÁRIO EM DATAFRAME\n",
        "      df = pd.DataFrame(jogadores)\n",
        "\n",
        "# VERIFICAÇÃO E ELIMINAÇÃO DE DUPLICATAS\n",
        "      df.drop_duplicates()\n",
        "\n",
        "# SALVAR OS DADOS COLETADOS EM CSV      \n",
        "      df.to_csv('DADOS_COLETADOS.csv',header=None,index=None,mode='a')\n",
        "\n",
        "# ::::::::::::::::::::::::::::::::\n",
        "# :: FASE 02 - LIMPEZA DE DADOS ::\n",
        "# ::::::::::::::::::::::::::::::::\n",
        "      \n",
        "# IMPORTAR O ARQUIVO CSV RECEM GERADO\n",
        "df = pd.read_csv('DADOS_COLETADOS.csv')\n",
        "\n",
        "# NOMEAR AS COLUNAS PARAR CADA ATRIBUTO\n",
        "df.columns = ['POSIÇÃO', 'NOME', 'TIME', 'JOGOS', 'PREÇO', 'MÉDIA', 'MÍNIMO']\n",
        "\n",
        "# ORDENAÇÃO DOS DADOS PELA POSIÇÃO DOS ATLETAS\n",
        "df = df.sort_values('POSIÇÃO')\n",
        "\n",
        "# RENOMEAR POSIÇÃO PARA SUAS NOMECLATURAS\n",
        "df['POSIÇÃO'] = df['POSIÇÃO'].replace([1,2,3,4,5,6], [\"GOL\",\"LAT\",\"ZAG\", \"MEI\", \"ATA\", \"TEC\"])\n",
        "\n",
        "# ALTERAR CLUBE_ID PARA ABREVIAÇÕES DOS NOMES DOS TIMES    \n",
        "df['TIME'] = df['TIME'].replace([1371,262,263,264,266,275,276,277,280,282,285,286,290,293,294,314,327,354,356,373],  \n",
        "                                      [\"CUI\",\"FLA\",\"BOT\",\"COR\",\"FLU\",\"PAL\",\"SAO\",\"SAN\",\"BGT\",\"CAM\",\n",
        "                                       \"INT\",\"JUV\",\"GOI\",\"CAP\",\"CFC\",\"AVA\",\"AME\",\"CEA\",\"FOR\",\"ACG\"])\n",
        "\n",
        "# SALVAR OS DADOS LIMPOS EM CSV   \n",
        "df.to_csv('DADOS_LIMPOS.csv',mode='a') \n"
      ],
      "metadata": {
        "id": "M0dMgLLqGML6"
      },
      "execution_count": null,
      "outputs": []
    },
    {
      "cell_type": "code",
      "source": [
        "# ::::::::::::::::::::::::::::::::::\n",
        "# :: FASE 03 - MINERAÇÃO DE DADOS ::\n",
        "# ::::::::::::::::::::::::::::::::::\n",
        "\n",
        "# ALGORITOMO PARA GARANTIR (MAIOR PROBABILIDADE DE VALORIZAÇÃO BASEANDO EM TITULARIDADE, PERFORMANCE E ESTABILIDADE\n",
        "df = df[(df['JOGOS'] > 7) & (df['MÉDIA'] > 3.5) & (df['MÍNIMO'] < df['MÉDIA']) & (df['MÉDIA'] - df['MÍNIMO'] > 1.0)]\n",
        "\n",
        "# SALVAR OS DADOS FILTRADOS EM CSV   \n",
        "df.to_csv('DADOS_FILTRADOS.csv',mode='a') \n",
        "\n",
        "# ABSTRAÇÃO DE ATLETAS REMANESCENTES POR POSIÇÃO\n",
        "goleiros = df[df['POSIÇÃO'] == \"GOL\"]\n",
        "laterais = df[df['POSIÇÃO'] == \"LAT\"]\n",
        "zagueiros = df[df['POSIÇÃO'] == \"ZAG\"]\n",
        "meias = df[df['POSIÇÃO'] == \"MEI\"]\n",
        "atacantes = df[df['POSIÇÃO'] == \"ATA\"]\n",
        "tecnicos = df[df['POSIÇÃO'] == \"TEC\"]\n",
        "\n",
        "# :::::::::::::::::::::::::::::::::::::\n",
        "# :: FASE 04 - VIZUALIZAÇÃO DE DADOS ::\n",
        "# :::::::::::::::::::::::::::::::::::::\n",
        "\n",
        "#CONSTRUÇÃO GRAFICA PARA ANALISE DE PERFORMANCE ENTRE GOLEIROS\n",
        "nome = goleiros['NOME']\n",
        "time = goleiros['TIME']\n",
        "minimo = goleiros['MÍNIMO']\n",
        "media = goleiros['MÉDIA']\n",
        "\n",
        "df = pd.DataFrame(np.c_[media,minimo], index=nome+\" \"+\"(\"+ time +\")\",columns=['Média','Mínima'])\n",
        "df.plot.bar(grid=True,xlabel=\"\", ylabel='Pontuação', title='GOLEIROS')\n",
        "\n",
        "plt.savefig('01_ANALISE_GOLEIROS.png', bbox_inches='tight')\n",
        "plt.show()\n"
      ],
      "metadata": {
        "id": "xVdIs5QO5Ze3"
      },
      "execution_count": null,
      "outputs": []
    },
    {
      "cell_type": "code",
      "source": [
        "#CONSTRUÇÃO GRAFICA PARA ANALISE DE PERFORMANCE ENTRE LATERAIS\n",
        "nome = laterais['NOME']\n",
        "time = laterais['TIME']\n",
        "minimo = laterais['MÍNIMO']\n",
        "media = laterais['MÉDIA']\n",
        "\n",
        "df = pd.DataFrame(np.c_[media,minimo], index=nome+\" \"+\"(\"+ time +\")\",columns=['Média','Mínima'])\n",
        "df.plot.bar(grid=True,xlabel=\"\", ylabel='Pontuação', title='LATERAIS')\n",
        "\n",
        "plt.savefig('02_ANALISE_LATERAIS.png', bbox_inches='tight')\n",
        "plt.show()"
      ],
      "metadata": {
        "id": "gw9ZfYAY5hpb"
      },
      "execution_count": null,
      "outputs": []
    },
    {
      "cell_type": "code",
      "source": [
        "#CONSTRUÇÃO GRAFICA PARA ANALISE DE PERFORMANCE ENTRE ZAGUEIROS\n",
        "nome = zagueiros['NOME']\n",
        "time = zagueiros['TIME']\n",
        "minimo = zagueiros['MÍNIMO']\n",
        "media = zagueiros['MÉDIA']\n",
        "\n",
        "df = pd.DataFrame(np.c_[media,minimo], index=nome+\" \"+\"(\"+ time +\")\",columns=['Média','Mínima'])\n",
        "df.plot.bar(grid=True,xlabel=\"\",ylabel='Pontuação', title='ZAGUEIROS')\n",
        "\n",
        "plt.savefig('03_ANALISE_ZAGUEIROS.png', bbox_inches='tight')\n",
        "plt.show()"
      ],
      "metadata": {
        "id": "Ik842jy75hsx"
      },
      "execution_count": null,
      "outputs": []
    },
    {
      "cell_type": "code",
      "source": [
        "#CONSTRUÇÃO GRAFICA PARA ANALISE DE PERFORMANCE ENTRE MEIAS\n",
        "nome = meias['NOME']\n",
        "time = meias['TIME']\n",
        "minimo = meias['MÍNIMO']\n",
        "media = meias['MÉDIA']\n",
        "\n",
        "df = pd.DataFrame(np.c_[media,minimo], index=nome+\" \"+\"(\"+ time +\")\",columns=['Média','Mínima'])\n",
        "df.plot.bar(grid=True,xlabel=\"\",ylabel='Pontuação', title='MEIAS')\n",
        "\n",
        "plt.savefig('04_ANALISE_MEIAS.png', bbox_inches='tight')\n",
        "plt.show()"
      ],
      "metadata": {
        "id": "-6y2EJ5C5hzb"
      },
      "execution_count": null,
      "outputs": []
    },
    {
      "cell_type": "code",
      "source": [
        "#CONSTRUÇÃO GRAFICA PARA ANALISE DE PERFORMANCE ENTRE ATACANTES\n",
        "nome = atacantes['NOME']\n",
        "time = atacantes['TIME']\n",
        "minimo = atacantes['MÍNIMO']\n",
        "media = atacantes['MÉDIA']\n",
        "\n",
        "df = pd.DataFrame(np.c_[media,minimo], index=nome+\" \"+\"(\"+ time +\")\",columns=['Média','Mínima'])\n",
        "df.plot.bar(grid=True,xlabel=\"\",ylabel='Pontuação', title='ATACANTES')\n",
        "\n",
        "plt.savefig('05_ANALISE_ATACANTES.png', bbox_inches='tight')\n",
        "plt.show()"
      ],
      "metadata": {
        "id": "zGj8_WHj5h2E"
      },
      "execution_count": null,
      "outputs": []
    },
    {
      "cell_type": "code",
      "source": [
        "#CONSTRUÇÃO GRAFICA PARA ANALISE DE PERFORMANCE ENTRE TÉCNICOS\n",
        "nome = tecnicos['NOME']\n",
        "time = tecnicos['TIME']\n",
        "minimo = tecnicos['MÍNIMO']\n",
        "media = tecnicos['MÉDIA']\n",
        "\n",
        "df = pd.DataFrame(np.c_[media,minimo], index=nome+\" \"+\"(\"+ time +\")\",columns=['Média','Mínima'])\n",
        "df.plot.bar(grid=True,xlabel=\"\",ylabel='Pontuação', title='TÉCNICOS')\n",
        "\n",
        "plt.savefig('06_ANALISE_TECNICOS.png', bbox_inches='tight')\n",
        "plt.show()\n"
      ],
      "metadata": {
        "id": "myFE1Hqd5h4b"
      },
      "execution_count": null,
      "outputs": []
    }
  ]
}